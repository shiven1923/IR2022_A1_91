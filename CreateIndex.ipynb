{
 "cells": [
  {
   "cell_type": "code",
   "metadata": {
    "tags": [],
    "deepnote_to_be_reexecuted": false,
    "source_hash": "e315b475",
    "execution_start": 1646321796721,
    "execution_millis": 1494,
    "cell_id": "868c2a19-ad1c-4789-ba41-37cd6d61650b",
    "deepnote_cell_type": "code"
   },
   "source": "import pandas as pd\nimport numpy as np\nimport os\nimport shutil\nfrom pathlib import Path\nimport nltk\nimport string\nimport json\nfrom nltk.tokenize import RegexpTokenizer\nfrom nltk.corpus import stopwords\nnltk.download('stopwords')\nimport pickle\n",
   "execution_count": 1,
   "outputs": [
    {
     "name": "stderr",
     "text": "[nltk_data] Downloading package stopwords to /root/nltk_data...\n[nltk_data]   Unzipping corpora/stopwords.zip.\n",
     "output_type": "stream"
    }
   ]
  },
  {
   "cell_type": "code",
   "metadata": {
    "tags": [],
    "deepnote_to_be_reexecuted": false,
    "source_hash": "e7b5e7bc",
    "execution_start": 1646321798216,
    "execution_millis": 68,
    "cell_id": "00001-663e1894-f617-4b52-8e3d-5b686836f8c7",
    "deepnote_cell_type": "code"
   },
   "source": "if not os.path.exists(\"dataset_copied\"):\n    shutil.copytree(\"dataset_new\",\"dataset_copied\")\n    print(\"Copied Dataset Created !!!\")  \nelse:\n    print(\"Copied Dataset Exists !!!\")\n\nprint(\"Length of Original Dataset :\",len(os.listdir(\"dataset_new\")))    \nprint(\"Length of Copied Dataset :\",len(os.listdir(\"dataset_copied\")))    ",
   "execution_count": 2,
   "outputs": [
    {
     "name": "stdout",
     "text": "Copied Dataset Exists !!!\nLength of Original Dataset : 1133\nLength of Copied Dataset : 1133\n",
     "output_type": "stream"
    }
   ]
  },
  {
   "cell_type": "code",
   "metadata": {
    "tags": [],
    "deepnote_to_be_reexecuted": false,
    "source_hash": "ac4320ab",
    "execution_start": 1646321798338,
    "execution_millis": 3624,
    "cell_id": "00003-8a2eeb0f-54bf-4f25-94cb-ed29c0d9fb05",
    "deepnote_cell_type": "code"
   },
   "source": "all_filenames = []\nfor count, filename in enumerate(os.listdir(\"dataset_copied\")):\n    all_filenames.append(filename)\n    f = open(\"dataset_copied/\"+filename,\"r\",encoding='iso-8859-15')\n    txt = f.read()\n    f.close()\n    # txt = Path(\"dataset_copied/\"+filename).read_text()\n    txt = txt.lower()\n    f = open(\"dataset_copied/\"+filename,\"w\",encoding='iso-8859-15')\n    f.write(txt)\n    f.close()\nprint(\"LowerCase Done !!!\")\nprint(\"Length of Copied Dataset :\",len(os.listdir(\"dataset_copied\")))",
   "execution_count": 3,
   "outputs": [
    {
     "name": "stdout",
     "text": "LowerCase Done !!!\nLength of Copied Dataset : 1133\n",
     "output_type": "stream"
    }
   ]
  },
  {
   "cell_type": "code",
   "metadata": {
    "tags": [],
    "deepnote_to_be_reexecuted": false,
    "source_hash": "37cb5bbb",
    "execution_start": 1646321801576,
    "execution_millis": 0,
    "cell_id": "00004-9514b1bb-8173-48c0-89b4-1f9e9f6527f4",
    "deepnote_cell_type": "code"
   },
   "source": "all_filenames.sort()\nname_to_id = {}\nid_to_name = {}\nk = 1\nfor i in all_filenames:\n    name_to_id[i] = k\n    id_to_name[k] = i\n    k += 1\n\nf = open(\"id_to_name.txt\",\"wb\")\npickle.dump(id_to_name,f)\nf.close()\n\nf = open(\"name_to_id.txt\",\"wb\")\npickle.dump(name_to_id,f)\nf.close()",
   "execution_count": 4,
   "outputs": []
  },
  {
   "cell_type": "code",
   "metadata": {
    "tags": [],
    "deepnote_to_be_reexecuted": false,
    "source_hash": "6a562f5f",
    "execution_start": 1646321801577,
    "execution_millis": 322515,
    "cell_id": "00006-5ba28e10-27c9-4aff-8b4f-7c613343253a",
    "deepnote_cell_type": "code"
   },
   "source": "tokenizer = RegexpTokenizer(r'\\w+')\nid_to_tokens = {}\n\nfor filename in name_to_id:\n    f = open(\"dataset_copied/\"+filename,\"r\",encoding='iso-8859-15')\n    txt = f.read()\n    txt = txt.translate(str.maketrans(string.punctuation, ' '*len(string.punctuation)))\n    tokens = tokenizer.tokenize(txt)\n    tokens_without_sw = [word for word in tokens if not word in stopwords.words('english')]\n    tokens = tokens_without_sw\n    id_to_tokens[name_to_id[filename]]=tokens\n\nf = open(\"id_to_tokens.txt\",\"wb\")\npickle.dump(id_to_tokens,f)\nf.close()",
   "execution_count": 5,
   "outputs": []
  },
  {
   "cell_type": "code",
   "metadata": {
    "tags": [],
    "deepnote_to_be_reexecuted": false,
    "source_hash": "a267f6ac",
    "execution_start": 1646322124101,
    "execution_millis": 214,
    "cell_id": "00008-9c8ca11c-6dc2-4e59-b31f-c5e7c65c3d6e",
    "deepnote_cell_type": "code"
   },
   "source": "f = open(\"id_to_tokens.txt\",\"rb\")\ntxt = f.read()\nf.close()\nid_to_tokens = pickle.loads(txt)",
   "execution_count": 6,
   "outputs": []
  },
  {
   "cell_type": "code",
   "metadata": {
    "tags": [],
    "deepnote_to_be_reexecuted": false,
    "source_hash": "94144d68",
    "execution_start": 1646322124326,
    "execution_millis": 1057,
    "cell_id": "00010-637c7e0e-b3c4-422a-89a9-dab0d87761f6",
    "deepnote_cell_type": "code"
   },
   "source": "all_terms_without_id = []\nall_terms_with_id = []\nunique_terms_plus_doc_freq = {}\n\n\nfor i in id_to_tokens:\n    tokens_of_i = id_to_tokens[i]\n    for j in tokens_of_i:\n        all_terms_without_id.append(j)\n        all_terms_with_id.append((j,i))\n\n        if j in unique_terms_plus_doc_freq:\n            unique_terms_plus_doc_freq[j]+=1\n        else:\n            unique_terms_plus_doc_freq[j]=1\n        \n\nprint(len(all_terms_without_id))\nprint(len(all_terms_with_id))\nprint(len(unique_terms_plus_doc_freq))",
   "execution_count": 7,
   "outputs": [
    {
     "name": "stdout",
     "text": "1165365\n1165365\n71038\n",
     "output_type": "stream"
    }
   ]
  },
  {
   "cell_type": "code",
   "metadata": {
    "tags": [],
    "deepnote_to_be_reexecuted": false,
    "source_hash": "95327fbb",
    "execution_start": 1646322125389,
    "execution_millis": 2777,
    "cell_id": "00012-a3c1f7f2-a58a-4e47-b689-eb774a7a2f40",
    "deepnote_cell_type": "code"
   },
   "source": "all_terms_with_id.sort()\nall_terms_without_id.sort()\nitems = unique_terms_plus_doc_freq.items()\nunique_terms_plus_doc_freq = sorted(items)\nunique_terms_plus_doc_freq = dict(unique_terms_plus_doc_freq)\n",
   "execution_count": 8,
   "outputs": []
  },
  {
   "cell_type": "code",
   "metadata": {
    "tags": [],
    "deepnote_to_be_reexecuted": false,
    "source_hash": "3c74c2fd",
    "execution_start": 1646322128234,
    "execution_millis": 10,
    "cell_id": "00013-24a651bd-edce-46ff-84c3-16a64174e01c",
    "deepnote_cell_type": "code"
   },
   "source": "terms_to_termplusfreq = {}\n\nfor i in unique_terms_plus_doc_freq:\n    terms_to_termplusfreq[i] = (i,unique_terms_plus_doc_freq[i])",
   "execution_count": 9,
   "outputs": []
  },
  {
   "cell_type": "code",
   "metadata": {
    "tags": [],
    "deepnote_to_be_reexecuted": false,
    "source_hash": "7c7fcbca",
    "execution_start": 1646322128247,
    "execution_millis": 9,
    "cell_id": "00014-3d1d6d0d-061b-470d-a55d-02b0b88494fb",
    "deepnote_cell_type": "code"
   },
   "source": "def get_postings(term,all_terms_with_id):\n    postings_list = []\n    for i in all_terms_with_id:\n        if term in i:\n            postings_list.append(i[1])\n    return postings_list",
   "execution_count": 10,
   "outputs": []
  },
  {
   "cell_type": "code",
   "metadata": {
    "tags": [],
    "deepnote_to_be_reexecuted": false,
    "source_hash": "acc21b78",
    "execution_start": 1646322128442,
    "execution_millis": 730,
    "cell_id": "00015-6ecdc3ad-2ced-4cf1-ad34-d04bdd490bd9",
    "deepnote_cell_type": "code"
   },
   "source": "inverted_index = {}\n\nfor i in unique_terms_plus_doc_freq:\n    inverted_index[i]=[]\n\nfor i in id_to_tokens:\n    tokens_of_i = id_to_tokens[i]\n    for j in tokens_of_i:\n        inverted_index[j].append(i)\n\nfor i in inverted_index:\n    inverted_index[i] = list(set(inverted_index[i]))\n    inverted_index[i].sort()",
   "execution_count": 11,
   "outputs": []
  },
  {
   "cell_type": "code",
   "metadata": {
    "tags": [],
    "deepnote_to_be_reexecuted": false,
    "source_hash": "9ad5fe4f",
    "execution_start": 1646322129185,
    "execution_millis": 77,
    "cell_id": "00017-d65f44b5-acd4-43de-868c-2c6346a0b0cc",
    "deepnote_cell_type": "code"
   },
   "source": "f = open(\"inverted_index.txt\",\"wb\")\npickle.dump(inverted_index,f)\nf.close()",
   "execution_count": 12,
   "outputs": []
  },
  {
   "cell_type": "code",
   "metadata": {
    "tags": [],
    "deepnote_to_be_reexecuted": false,
    "source_hash": "d8d87110",
    "execution_start": 1646322129272,
    "execution_millis": 298648,
    "cell_id": "00019-a925bdc9-7621-4a65-afba-ee0f2d22d260",
    "deepnote_cell_type": "code"
   },
   "source": "positional_index = {}\n\nfor i in inverted_index:\n    positional_postings_list = {}\n    positional_index[i] = positional_postings_list\n    postings_list = inverted_index[i]\n    for doc_id in postings_list:\n        tokens = np.array(id_to_tokens[doc_id]) \n        positional_postings_list[doc_id]=list(np.where(tokens == i)[0])",
   "execution_count": 13,
   "outputs": []
  },
  {
   "cell_type": "code",
   "metadata": {
    "tags": [],
    "deepnote_to_be_reexecuted": false,
    "source_hash": "ec716857",
    "execution_start": 1646322427948,
    "execution_millis": 6379,
    "cell_id": "00020-39aff4fb-12fa-4d7b-93a0-8fd1d5e122ff",
    "deepnote_cell_type": "code"
   },
   "source": "f = open(\"positional_index.txt\",\"wb\")\npickle.dump(positional_index,f)\nf.close()",
   "execution_count": 14,
   "outputs": []
  },
  {
   "cell_type": "code",
   "metadata": {
    "tags": [],
    "deepnote_to_be_reexecuted": false,
    "source_hash": "56aee368",
    "execution_start": 1646322434342,
    "execution_millis": 2012,
    "cell_id": "00021-6921600e-d7f7-42e5-b3cc-7f42df8a4c20",
    "deepnote_cell_type": "code"
   },
   "source": "f = open(\"positional_index.txt\",\"rb\")\ntxt = f.read()\nf.close()\npositional_index = pickle.loads(txt)",
   "execution_count": 15,
   "outputs": []
  },
  {
   "cell_type": "markdown",
   "source": "<a style='text-decoration:none;line-height:16px;display:flex;color:#5B5B62;padding:10px;justify-content:end;' href='https://deepnote.com?utm_source=created-in-deepnote-cell&projectId=04d84d63-ff1d-4672-9f78-d034a2868658' target=\"_blank\">\n<img alt='Created in deepnote.com' style='display:inline;max-height:16px;margin:0px;margin-right:7.5px;' src='data:image/svg+xml;base64,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' > </img>\nCreated in <span style='font-weight:600;margin-left:4px;'>Deepnote</span></a>",
   "metadata": {
    "tags": [],
    "created_in_deepnote_cell": true,
    "deepnote_cell_type": "markdown"
   }
  }
 ],
 "nbformat": 4,
 "nbformat_minor": 2,
 "metadata": {
  "orig_nbformat": 2,
  "deepnote": {
   "is_reactive": false
  },
  "deepnote_notebook_id": "5590d10a-38e2-40ea-b8ef-558b32aa334c",
  "deepnote_execution_queue": []
 }
}