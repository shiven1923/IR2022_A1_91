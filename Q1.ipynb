{
 "cells": [
  {
   "cell_type": "code",
   "metadata": {
    "tags": [],
    "deepnote_to_be_reexecuted": false,
    "source_hash": "3b1c7f8e",
    "execution_start": 1646325420462,
    "execution_millis": 2440,
    "cell_id": "b1aac8f0-8ab1-400c-96e1-77d9cf2abea5",
    "deepnote_cell_type": "code"
   },
   "source": "import pandas as pd\nimport numpy as np\nimport os\nimport shutil\nfrom pathlib import Path\nimport nltk\nimport string\nimport json\nfrom nltk.tokenize import RegexpTokenizer\nfrom nltk.corpus import stopwords\nnltk.download('stopwords')\nimport pickle",
   "outputs": [
    {
     "name": "stderr",
     "text": "[nltk_data] Downloading package stopwords to /root/nltk_data...\n[nltk_data]   Unzipping corpora/stopwords.zip.\n",
     "output_type": "stream"
    }
   ],
   "execution_count": null
  },
  {
   "cell_type": "code",
   "metadata": {
    "tags": [],
    "deepnote_to_be_reexecuted": false,
    "source_hash": "9654019e",
    "execution_start": 1646325422914,
    "execution_millis": 194,
    "cell_id": "00001-4c54e6d6-2cb1-457b-811e-55bb5cf5688f",
    "deepnote_cell_type": "code"
   },
   "source": "\"\"\"\nThe following code reads the inverted_index that was already created and\nstored before. The data is stored in the form of bytes by the pickle library.\n\"\"\"\n\nf = open(\"inverted_index.txt\",\"rb\")\ntxt = f.read()\nf.close()\ninverted_index = pickle.loads(txt)\n\nf = open(\"id_to_name.txt\",\"rb\")\ntxt = f.read()\nf.close()\nid_to_name = pickle.loads(txt)\n\nf = open(\"name_to_id.txt\",\"rb\")\ntxt = f.read()\nf.close()\nname_to_id = pickle.loads(txt)\n\n#......",
   "outputs": [],
   "execution_count": null
  },
  {
   "cell_type": "code",
   "metadata": {
    "tags": [],
    "deepnote_to_be_reexecuted": false,
    "source_hash": "97348c87",
    "execution_start": 1646325423118,
    "execution_millis": 4,
    "cell_id": "00002-12abe79c-dbc8-4188-b6a9-bf15ff4c0c98",
    "deepnote_cell_type": "code"
   },
   "source": "# creating universal_docs variable as a support to NOT queries\nglobal universal_docs\nuniversal_docs = [i for i in range(1,1134)]",
   "outputs": [],
   "execution_count": null
  },
  {
   "cell_type": "code",
   "metadata": {
    "tags": [],
    "deepnote_to_be_reexecuted": false,
    "source_hash": "4c636d49",
    "execution_start": 1646325423134,
    "execution_millis": 7,
    "cell_id": "00003-a4eb51a8-3a9f-43d3-b702-f5e4bc76ac4c",
    "deepnote_cell_type": "code"
   },
   "source": "\"\"\"\nThe function [process_query] processes the query as follows:\n1. lowercase the query\n2. remove punctuation\n3. tokenize the query\n4. stopword removal (english stopword removal)\n5. remove blankspace tokens\n\nArguments : Query (String)\nReturns : Query Tokens (List)\n\"\"\"\n\ndef process_query(query):\n    query = query.lower()\n    query = query.translate(str.maketrans(string.punctuation, ' '*len(string.punctuation)))\n    tokenizer = RegexpTokenizer(r'\\w+')\n    tokens = tokenizer.tokenize(query)\n    tokens_without_sw = [word for word in tokens if not word in stopwords.words('english')]\n    return tokens_without_sw\n\n#.....",
   "outputs": [],
   "execution_count": null
  },
  {
   "cell_type": "code",
   "metadata": {
    "tags": [],
    "deepnote_to_be_reexecuted": false,
    "source_hash": "6eed9a6e",
    "execution_start": 1646325423162,
    "execution_millis": 42,
    "cell_id": "00004-d49bf988-f570-4e66-ab33-accb98d08d17",
    "deepnote_cell_type": "code"
   },
   "source": "\"\"\"\nThe function [process_NOT] provides support for the 'NOT' operation in the input\noperation sequence. In the retrieval pipeline of many functions, this function is\ncalled first to process the 'NOT' operation. The 'OR' and 'AND' operations are\nhandled after this function.\n\nArguments : Query Tokens is the list of tokens (List)\n            Query Sequence is the input operation sequence (List)\n            Inverted Index is the unigram inverted index (Dictionary)\nReturns : tuple with 2 elements\n          Processed_Postings is the list of postings from the query tokens after \n          the NOT operation (List)\n          Processed_Sequence is the operation sequence but with 'NOT' omitted\n          because NOT has been processed (List)\n\"\"\"\n\ndef process_NOT(query_tokens, query_sequence, inverted_index):\n    processed_query_postings = []\n    processed_query_sequence = query_sequence.copy()\n    universal_local = set(universal_docs)\n    n = len(query_tokens)\n    m = len(processed_query_sequence)\n    first = False\n    if (n==m):\n        if (processed_query_sequence[0]!='NOT'):\n            print(\"Cant Process Query\")\n            return []\n        else :\n            try:\n                current_set = set(inverted_index[query_tokens[0]])\n            except KeyError:\n                processed_query_postings.append([])\n            else:\n                rem_list = list(universal_local - current_set)\n                processed_query_postings.append(rem_list)\n            processed_query_sequence.pop(0)\n            first = True\n\n    if (first == False):\n        current_list = inverted_index[query_tokens[0]]\n        processed_query_postings.append(current_list)\n\n    m = len(processed_query_sequence)\n\n    for i in range(m):\n        operation = processed_query_sequence[i]\n        operation_str = operation.split(\" \")\n        if 'NOT' not in operation_str:\n            try:\n                current_list = inverted_index[query_tokens[i+1]]\n            except KeyError:\n                processed_query_postings.append([])  \n            else:  \n                processed_query_postings.append(current_list)\n            continue\n        if operation_str[-1] != 'NOT':\n            print(operation_str)\n            print(\"Cant Process Query Fail 1\")\n            return None\n        if len(operation_str) != 2:\n            print(\"Cant Process Query Fail 2\")\n            return None\n        try:\n            current_set = set(inverted_index[query_tokens[i+1]])\n        except:\n            processed_query_postings.append([])\n        else:    \n            rem_list = list(universal_local-current_set)\n            processed_query_postings.append(rem_list)\n        new_operation = operation_str[0]\n        processed_query_sequence[i]=new_operation\n\n    return (processed_query_postings,processed_query_sequence)\n\n#.....",
   "outputs": [],
   "execution_count": null
  },
  {
   "cell_type": "code",
   "metadata": {
    "tags": [],
    "deepnote_to_be_reexecuted": false,
    "source_hash": "5d8e05b5",
    "execution_start": 1646325423204,
    "execution_millis": 1,
    "cell_id": "00005-b7c5c7ff-d802-4ffe-9089-fb022d049d98",
    "deepnote_cell_type": "code"
   },
   "source": "#Binary Search Function to minimise the comparisons while retrieving\ndef binary_search_count(tofind,inlist):\n    count = 0\n    list_len = len(inlist)\n    \n    lower = 0\n    upper = list_len - 1\n    mid = int((lower+upper)/2)\n    # print(\"Finding\",tofind)\n    while True:\n        # print(\"lower\",lower,end =' ')\n        # print(\"middle\",mid, end =' ')\n        # print(\"upper\",upper)\n        count+=1\n        if (inlist[mid]==tofind):\n            # print(\"Found\")\n            return (True,count)\n        if (upper <= lower):\n            # print(\"Not Found\")\n            return (False,count)\n        if (inlist[mid]>tofind):\n            upper = mid - 1\n            mid = int((lower+upper)/2)\n        elif (inlist[mid]<tofind):\n            lower = mid + 1\n            mid = mid = int((lower+upper)/2)\n        \n#.....        ",
   "outputs": [],
   "execution_count": null
  },
  {
   "cell_type": "code",
   "metadata": {
    "tags": [],
    "deepnote_to_be_reexecuted": false,
    "source_hash": "f3265132",
    "execution_start": 1646326770744,
    "execution_millis": 0,
    "cell_id": "00007-9e66ef53-efe8-47bd-aa7d-f958859eda7e",
    "deepnote_cell_type": "code"
   },
   "source": "\"\"\"\nThe function [generate_postings_OR] combines two postings list in a\nunion operation. It also counts the number of comparisons done to generate such\nunion.\n\nArguments : First Postings List (List)\n            Second Postings List (List)\n\nReturns :   tuple with 2 elements\n            Union of the two lists (List)\n            Count of Comparisons (Integer)\n\"\"\"\n\ndef generate_postings_OR(first_list,second_list):\n    count = 0\n    f_len = len(first_list)\n    s_len = len(second_list)\n\n    first_list.sort()\n    second_list.sort()\n    if (f_len<=s_len):\n        findfrom = first_list\n        findin = second_list\n    else:\n        findfrom = second_list\n        findin = first_list\n    \n    new_list = findin.copy()\n    findin_new = findin.copy()\n\n    for i in findfrom:\n        # if i not in findin:\n        #     new_list.append(i)\n        result = binary_search_count(i,findin_new)\n        count += result[1]\n        if (result[0]==False):\n            new_list.append(i)\n        if (result[0]==True):\n            index = findin_new.index(i)\n            findin_new = findin_new[index:]\n    new_list.sort()\n    \n    return (new_list,count)\n\n#.....",
   "outputs": [],
   "execution_count": null
  },
  {
   "cell_type": "code",
   "metadata": {
    "tags": [],
    "deepnote_to_be_reexecuted": false,
    "source_hash": "89b5b780",
    "execution_start": 1646325736477,
    "execution_millis": 2,
    "cell_id": "00008-66dbe254-e006-487c-92a0-4c4ad63cd030",
    "deepnote_cell_type": "code"
   },
   "source": "\"\"\"\nThe function [generate_postings_AND] is similar to the function [generate_postings_OR].\nIt returns intersection of the two lists and the count of comparisons.\n\"\"\"\n\ndef generate_postings_AND(first_list,second_list):\n    count = 0\n    f_len = len(first_list)\n    s_len = len(second_list)\n    first_list.sort()\n    second_list.sort()\n    if (f_len<=s_len):\n        findfrom = first_list\n        findin = second_list\n    else:\n        findfrom = second_list\n        findin = first_list\n    \n    new_list = []\n    findin_new = findin.copy()\n    for i in findfrom:\n        result = binary_search_count(i,findin_new)\n        count += result[1]\n        if (result[0]==True):\n            new_list.append(i)\n            index = findin_new.index(i)\n            findin_new = findin_new[index:]\n    \n    return (new_list,count)\n\n#.....",
   "outputs": [],
   "execution_count": null
  },
  {
   "cell_type": "code",
   "metadata": {
    "tags": [],
    "deepnote_to_be_reexecuted": false,
    "source_hash": "9b67f39b",
    "execution_start": 1646325423247,
    "execution_millis": 1,
    "cell_id": "00009-a1e25460-bc41-46db-99e9-c7a437a82ee3",
    "deepnote_cell_type": "code"
   },
   "source": "\"\"\"\nThe function [process_OR] provides support for 'OR' operation in the \ninput operation sequence. This function is called after [process_NOT].\nIt calculates union operation for wherever 'OR' is present in the sequence.\n\nArguments : Query Postings : The list of postings of queries after NOT (List)\n            Query Sequence : Sequence consisting of just AND and OR (List)\nReturns : tuple of 3 elements\n          List of Postings after processing OR (List)\n          List of operation sequence containing just AND (List)\n          Count of comparisons done to process OR (Integer)\n\"\"\"\n\ndef process_OR(processed_query_postings,query_sequence):\n    count = 0\n    new_postings = processed_query_postings.copy()\n    new_sequence = query_sequence.copy()\n    while 'OR' in new_sequence:\n        index = new_sequence.index('OR')\n        first = new_postings[index]\n        second = new_postings[index+1]\n        result = generate_postings_OR(first,second)\n        new_sequence.pop(index)\n        new_postings.insert(index,result[0])\n        new_postings.pop(index+1)\n        new_postings.pop(index+1)\n        count+=result[1]\n\n    return (new_postings,new_sequence,count)      ",
   "outputs": [],
   "execution_count": null
  },
  {
   "cell_type": "code",
   "metadata": {
    "tags": [],
    "deepnote_to_be_reexecuted": false,
    "source_hash": "5d712a3a",
    "execution_start": 1646325423282,
    "execution_millis": 0,
    "cell_id": "00010-6a0f223f-9659-414f-9b28-456125cf56c5",
    "deepnote_cell_type": "code"
   },
   "source": "\"\"\"\nThe function [process_AND] provides support for 'AND' operation in the input\noperation sequence. This function is called after [process_OR] i.e it is the\nlast operation processing function. \n\nArguments : Query Postings : List of postings after processing OR (List)\n            Query Sequence : List of operations containing just AND (List)\n            Count of comparisons to keep track of comparisons made in AND\n            since this is a recursive function (Integer)\n\nReturns : tuple of 3 elements\n          Final Postings List of the query and input operation given by user (List)\n          Empty Query Sequence since all operations are processed (List)\n          Count : Total Count of all comparisons (Integer)\n\nTo minimise the number of comparisons, this function first sorts the \nquery postings by their frequency and then calls the [generate_postings_AND].\n\"\"\"\ndef process_AND(processed_query_postings,query_sequence,count):\n    n = len(processed_query_postings)\n    m = len(query_sequence)\n    dictionary = {}\n    if (n != m + 1):\n        print(\"Error in Preprocessing\")\n        return None\n\n    if len(query_sequence)==0:\n        return (processed_query_postings,query_sequence,count)\n   \n    # new_postings = processed_query_postings.copy()\n    new_postings = []\n    new_sequence = query_sequence.copy()\n    for i in range(n):\n        dictionary[i]=len(processed_query_postings[i])\n    dictionary = dict(sorted(dictionary.items(), key=lambda item: item[1]))\n    # print(dictionary)\n    for i in dictionary:\n        new_postings.append(processed_query_postings[i])\n    first = new_postings[0]\n    second = new_postings[1]\n    result = generate_postings_AND(first,second)\n    new_sequence.pop(0)\n    new_postings.insert(0,result[0])\n    new_postings.pop(1)\n    new_postings.pop(1)\n    count+=result[1]\n\n    return process_AND(new_postings,new_sequence,count)\n\n#.....\n",
   "outputs": [],
   "execution_count": null
  },
  {
   "cell_type": "code",
   "metadata": {
    "tags": [],
    "deepnote_to_be_reexecuted": false,
    "source_hash": "ca27b5f1",
    "execution_start": 1646325423283,
    "execution_millis": 1,
    "cell_id": "00016-55705ade-8349-4bc3-8b33-6c3848b04ed5",
    "deepnote_cell_type": "code"
   },
   "source": "\"\"\"\nThe function [boolean_retrieval] performs the retrieval of input query and \ninput operation sequence. It uses the functions [process_query], [process_NOT],\n[process_OR] and [process_AND]\n\nArguments : Query (String)\n            Input Operation Sequence (List)\n            Inverted Index (Dictionary)\nReturns : Final List of Documents containing required query (List)\n          Count of comparisons done to retrieve the list (Integer)\n\"\"\"\n\ndef boolean_retrieval(query,query_sequence,inverted_index):\n    query_tokens = process_query(query)\n    result1 = process_NOT(query_tokens, query_sequence, inverted_index)\n    processed_postings = result1[0]\n    new_sequence = result1[1]\n\n    count = 0\n    result2 = process_OR(processed_postings,new_sequence)\n    processed_postings = result2[0]\n    new_sequence = result2[1]\n    count+= result2[2]\n\n    # print(\"After Processing OR count of comparisons\",count)\n    # print(\"len\",len(processed_postings[0]))\n    result3 = process_AND(processed_postings,new_sequence,0)\n    final_result = result3[0][0]\n    final_sequence = result3[0]\n    count += result3[2]\n\n    # print(\"After Processing AND count of comparisons\",count)\n\n    # print(\"Number of Documents Retrieved\",len(final_result))\n    return (final_result,count)\n    \n#.....",
   "outputs": [],
   "execution_count": null
  },
  {
   "cell_type": "code",
   "source": "N = int(input(\"Enter Number of Queries\"))\nfor i in range(N):\n    query = input(\"Enter Query Line 1\\n\")\n    operation_sequence = input(\"Enter Query Line 2 (Separated by Commas)\\n\")\n    operation_sequence = operation_sequence.upper()\n    operation_sequence = operation_sequence.split(\",\")\n    result = boolean_retrieval(query,operation_sequence,inverted_index)\n    print(\"Number of Documents Retrieved\",len(result[0]))\n    print(\"Number of Comparisons\",result[1])\n",
   "metadata": {
    "cell_id": "ebba3722-c1b4-48a7-b6ce-b2da7ef87bb6",
    "tags": [],
    "deepnote_to_be_reexecuted": false,
    "source_hash": "f049bdd5",
    "execution_start": 1646328093499,
    "execution_millis": 2200390,
    "deepnote_cell_type": "code"
   },
   "outputs": [],
   "execution_count": 1
  },
  {
   "cell_type": "code",
   "source": "",
   "metadata": {
    "cell_id": "8956da41-7e0c-4e08-a4c5-7a190c541451",
    "tags": [],
    "deepnote_to_be_reexecuted": false,
    "source_hash": "b623e53d",
    "execution_start": 1646325451584,
    "deepnote_cell_type": "code"
   },
   "outputs": [],
   "execution_count": null
  },
  {
   "cell_type": "markdown",
   "source": "<a style='text-decoration:none;line-height:16px;display:flex;color:#5B5B62;padding:10px;justify-content:end;' href='https://deepnote.com?utm_source=created-in-deepnote-cell&projectId=04d84d63-ff1d-4672-9f78-d034a2868658' target=\"_blank\">\n<img alt='Created in deepnote.com' style='display:inline;max-height:16px;margin:0px;margin-right:7.5px;' src='data:image/svg+xml;base64,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' > </img>\nCreated in <span style='font-weight:600;margin-left:4px;'>Deepnote</span></a>",
   "metadata": {
    "tags": [],
    "created_in_deepnote_cell": true,
    "deepnote_cell_type": "markdown"
   }
  }
 ],
 "nbformat": 4,
 "nbformat_minor": 2,
 "metadata": {
  "orig_nbformat": 2,
  "deepnote": {
   "is_reactive": false
  },
  "deepnote_notebook_id": "f866d5cc-bb15-43ee-8ad0-7a93b91c97d0",
  "deepnote_execution_queue": []
 }
}
